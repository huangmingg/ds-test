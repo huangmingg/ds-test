{
 "cells": [
  {
   "cell_type": "code",
   "execution_count": 35,
   "metadata": {},
   "outputs": [],
   "source": [
    "import pandas as pd\n",
    "from sklearn.model_selection import train_test_split, learning_curve\n",
    "from copy import deepcopy\n",
    "from sklearn.linear_model import LogisticRegression\n",
    "from sklearn.metrics import (accuracy_score, f1_score, roc_curve)\n",
    "from sklearn.metrics import average_precision_score\n",
    "from sklearn.metrics import precision_score\n",
    "from sklearn.metrics import recall_score\n",
    "from sklearn.metrics import confusion_matrix\n",
    "from sklearn.metrics import roc_auc_score\n",
    "from sklearn.metrics import mean_absolute_error\n",
    "from sklearn.metrics import mean_squared_error"
   ]
  },
  {
   "cell_type": "code",
   "execution_count": 56,
   "metadata": {},
   "outputs": [],
   "source": [
    "# read in the data as a pandas dataframe\n",
    "df = pd.read_csv(\"data.csv\", skiprows = 0)\n"
   ]
  },
  {
   "cell_type": "code",
   "execution_count": 50,
   "metadata": {},
   "outputs": [
    {
     "name": "stdout",
     "output_type": "stream",
     "text": [
      "\u001b[1mRows     : \u001b[0m 19\n",
      "\u001b[1mColumns  : \u001b[0m 17\n",
      "\u001b[1m\n",
      "Column Names : \n",
      "\u001b[0m ['col0', 'col1', 'col2', 'col3', 'col4', 'col5', 'col6', 'col7', 'col8', 'col9', 'col10', 'col11', 'col12', 'col13', 'col14', 'y1', 'y2']\n",
      "\u001b[1m\n",
      "Null values :  \u001b[0m 0\n"
     ]
    }
   ],
   "source": [
    "size = df.shape\n",
    "print (\"\\033[1m\" + \"Rows     : \" +  \"\\033[0m\", size[0])\n",
    "print (\"\\033[1m\" + \"Columns  : \" + \"\\033[0m\", size[1])\n",
    "print (\"\\033[1m\" + \"\\nColumn Names : \\n\" + \"\\033[0m\", df.columns.tolist())\n",
    "print (\"\\033[1m\" + \"\\nNull values :  \" + \"\\033[0m\", df.isnull().sum().values.sum())"
   ]
  },
  {
   "cell_type": "code",
   "execution_count": 3,
   "metadata": {},
   "outputs": [],
   "source": [
    "## converting categorical variables into their dummy variables respectively\n",
    "## to avoid perfect multicollinearity, we will drop a column - essentially only creating k - 1 columns \n",
    "## see https://towardsdatascience.com/one-hot-encoding-multicollinearity-and-the-dummy-variable-trap-b5840be3c41a for more info\n",
    "def one_hot_encoding(df,cat_columns):\n",
    "    #iterate through the categorical columns\n",
    "    for cat in cat_columns:\n",
    "        cat_value_list = sorted(df[cat].unique())\n",
    "        length_list = len(cat_value_list)\n",
    "        for x in range(0,length_list - 1):\n",
    "            listValue = cat_value_list[x]\n",
    "            encoded_name = str(cat) + \"_encoded_\" + str(listValue)\n",
    "            df[encoded_name] = 0\n",
    "            df.loc[df[cat] == listValue, encoded_name] = 1\n",
    "        del df[cat]\n",
    "    return df"
   ]
  },
  {
   "cell_type": "code",
   "execution_count": 52,
   "metadata": {},
   "outputs": [],
   "source": [
    "cts_features = ['col1', 'col2', 'col3', 'col4', 'col5', 'col6', 'col7', 'col8', 'col9', 'col10', 'col11', 'col12', 'col13', 'col14']\n"
   ]
  },
  {
   "cell_type": "code",
   "execution_count": 54,
   "metadata": {},
   "outputs": [
    {
     "name": "stdout",
     "output_type": "stream",
     "text": [
      "Performance Metrix for Logistics Regression (Imbalanced)\n",
      "Accuracy                 :  0.5714285714285714\n",
      "F1 Score                 :  0.0\n",
      "Recall                   :  0.0\n",
      "Area under Curve         :  0.5\n",
      "\n",
      " Confusion Matrix \n",
      " [[4 0]\n",
      " [3 0]] \n",
      "\n"
     ]
    }
   ],
   "source": [
    "## Y1\n",
    "\n",
    "df_logreg = deepcopy(df)\n",
    "df_logreg = df_logreg[['col1', 'col2', 'col3', 'col4', 'col5', 'col6', 'col7', 'col8', 'col9', 'col10', 'col11', 'col12', 'col13', 'col14', 'y1']]\n",
    "\n",
    "# Splitting 66/33\n",
    "Y = df_logreg[\"y1\"]\n",
    "X = deepcopy(df_logreg)\n",
    "X = one_hot_encoding(X, cts_features)\n",
    "X_train, X_test = train_test_split(X, test_size= (1/3), random_state = 123)\n",
    "\n",
    "# merge back for hot encoding  model performs better \n",
    "Y_train = X_train[\"y1\"]\n",
    "del X_train[\"y1\"]\n",
    "\n",
    "Y_test = X_test[\"y1\"]\n",
    "del X_test[\"y1\"]\n",
    "\n",
    "lr = LogisticRegression(fit_intercept=True, penalty='l2', random_state=123)\n",
    "log_reg_model = lr.fit(X_train, Y_train)\n",
    "y_pred = log_reg_model.predict(X_test)\n",
    "\n",
    "print(\"Performance Metrix for Logistics Regression (Imbalanced)\")\n",
    "print(\"Accuracy                 : \", accuracy_score(Y_test, y_pred))\n",
    "print(\"F1 Score                 : \", f1_score(Y_test, y_pred))\n",
    "print(\"Recall                   : \", recall_score(Y_test, y_pred))\n",
    "print(\"Area under Curve         : \", roc_auc_score(Y_test,y_pred))\n",
    "print(\"\\n\",\"Confusion Matrix\",\"\\n\", confusion_matrix(Y_test, y_pred),\"\\n\")\n"
   ]
  },
  {
   "cell_type": "code",
   "execution_count": 55,
   "metadata": {},
   "outputs": [
    {
     "name": "stdout",
     "output_type": "stream",
     "text": [
      "Performance Metrix for Logistics Regression (Imbalanced)\n",
      "Accuracy                 :  0.7142857142857143\n",
      "F1 Score                 :  0.0\n",
      "Recall                   :  0.0\n",
      "Area under Curve         :  0.5\n",
      "\n",
      " Confusion Matrix \n",
      " [[5 0]\n",
      " [2 0]] \n",
      "\n"
     ]
    }
   ],
   "source": [
    "## Pc Check\n",
    "\n",
    "df_logreg = deepcopy(df)\n",
    "df_logreg = df_logreg[['col1', 'col2', 'col3', 'col4', 'col5', 'col6', 'col7', 'col8', 'col9', 'col10', 'col11', 'col12', 'col13', 'col14', 'y2']]\n",
    "\n",
    "# Splitting 66/33\n",
    "Y = df_logreg[\"y2\"]\n",
    "X = deepcopy(df_logreg)\n",
    "X = one_hot_encoding(X, cts_features)\n",
    "X_train, X_test = train_test_split(X, test_size= (1/3), random_state = 123)\n",
    "\n",
    "# merge back for hot encoding  model performs better \n",
    "Y_train = X_train[\"y2\"]\n",
    "del X_train[\"y2\"]\n",
    "\n",
    "Y_test = X_test[\"y2\"]\n",
    "del X_test[\"y2\"]\n",
    "\n",
    "lr = LogisticRegression(fit_intercept=True, penalty='l2', random_state=123)\n",
    "log_reg_model = lr.fit(X_train, Y_train)\n",
    "y_pred = log_reg_model.predict(X_test)\n",
    "\n",
    "print(\"Performance Metrix for Logistics Regression (Imbalanced)\")\n",
    "print(\"Accuracy                 : \", accuracy_score(Y_test, y_pred))\n",
    "print(\"F1 Score                 : \", f1_score(Y_test, y_pred))\n",
    "print(\"Recall                   : \", recall_score(Y_test, y_pred))\n",
    "print(\"Area under Curve         : \", roc_auc_score(Y_test,y_pred))\n",
    "print(\"\\n\",\"Confusion Matrix\",\"\\n\", confusion_matrix(Y_test, y_pred),\"\\n\")\n"
   ]
  }
 ],
 "metadata": {
  "kernelspec": {
   "display_name": "Python 3",
   "language": "python",
   "name": "python3"
  },
  "language_info": {
   "codemirror_mode": {
    "name": "ipython",
    "version": 3
   },
   "file_extension": ".py",
   "mimetype": "text/x-python",
   "name": "python",
   "nbconvert_exporter": "python",
   "pygments_lexer": "ipython3",
   "version": "3.11.3"
  }
 },
 "nbformat": 4,
 "nbformat_minor": 2
}
